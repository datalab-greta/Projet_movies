{
 "cells": [
  {
   "cell_type": "code",
   "execution_count": 1,
   "metadata": {},
   "outputs": [],
   "source": [
    "import requests\n",
    "from pandas.io.json import json_normalize\n",
    "import pandas as pd"
   ]
  },
  {
   "cell_type": "code",
   "execution_count": 2,
   "metadata": {
    "scrolled": true
   },
   "outputs": [
    {
     "name": "stdout",
     "output_type": "stream",
     "text": [
      "            Ref_name codes    Did       years        last_n          first_n  \\\n",
      "0              Aaron     D    PAa        1979         Aaron             Paul   \n",
      "1               Abel   DPW    JeA        1971          Abel           Jeanne   \n",
      "2             Abbott  AWDP    GgA  @1929-1958        Abbott           George   \n",
      "3           Abrahams    WD    xAb        1948      Abrahams              NaN   \n",
      "4         J.Abrahams    WD    JiA  @1980-1988      Abrahams              Jim   \n",
      "5     Jeffrey Abrams     W    NaN  @1991-1992        Abrams          Jeffrey   \n",
      "6           Abramson     D    NAb        1998      Abramson             Neil   \n",
      "7          Abduladze     D    TAb        1977     Abduladze           Tengiz   \n",
      "8           Abramson     D    NAb        1998      Abramson              Nel   \n",
      "9           Ackerman     D    RAA        1994      Ackerman     Robert Allan   \n",
      "10              Acub     D    NAA        1957          Acub       Nya' Abbas   \n",
      "11          Ken Adam     V    NaN   1947-1993          Adam              Ken   \n",
      "12           Adamson    DP    AlA   1969-1983       Adamson               Al   \n",
      "13             Addis     D    JuA  @1955-1957         Addis           Justus   \n",
      "14             Adler     D    GAe        1996         Adler           Gilber   \n",
      "15           C.Adler     D    CAd        1998         Adler           Carine   \n",
      "16             Adlon     D    PAd  @1981-1994         Adlon            Percy   \n",
      "17            Adolfi    AD    IGA  @1915-1933        Adolfi          John G.   \n",
      "18        Adomenaite     D    NyA        1991    Adomenaite           Niyole   \n",
      "19          Afredson     D    DAf        1993      Afredson           Daniel   \n",
      "20           Aguirre     D    MoA        1991       Aguirre            Monte   \n",
      "21        Fred Ahern     P    NaN         NaN         Ahern             Fred   \n",
      "22           Akerman     D    CAm  @1969-1993       Akerman          Chantal   \n",
      "23             Akkad     D    MAk        1976         Akkad         Mustapha   \n",
      "24          Alardice     W    NaN         NaN     Allardice            James   \n",
      "25              Alda   AWD    AAl  @1979-1986          Alda             Alan   \n",
      "26           Aldrich    DP    RoA  @1953-1981       Aldrich           Robert   \n",
      "27              Alea     D    TGA  @1964-1968          Alea  Tomas Gutierrez   \n",
      "28      Alessandrini     D    GoA        1942  Alessandrini         Goffredo   \n",
      "29         Alexander   WPD    JAx        1992     Alexander          Jourdon   \n",
      "...              ...   ...    ...         ...           ...              ...   \n",
      "3283        R.Zanuck     P    NaN   1957-1980        Zanuck       Richard D.   \n",
      "3284       Zarindast     D    ToZ  @1978-1982     Zarindast          Tony M.   \n",
      "3285      Zefferelli     D   FZe1  @1966-1996    Zefferelli           Franco   \n",
      "3286       Zeilinger    WD    JmZ        1990     Zeilinger            Jimmy   \n",
      "3287        Zemeckis    DW    RZe  @1981-1994      Zemeckis           Robert   \n",
      "3288      Zetterling    DW     MZ        1964    Zetterling              Mai   \n",
      "3289        YM.Zhang    CD    YMZ   1980-1992         Zhang           Yi Mou   \n",
      "3290         Y.Zhang     D    YZh  @1990-1998         Zuang             Yuan   \n",
      "3291            Zhou     D    XWZ        1997          Zhou          XioaWen   \n",
      "3292    Zhuangzhuang     D    TZz        1994  Zhuangzhuang             Tian   \n",
      "3293            Zidi     D    ClZ        1989          Zidi           Claude   \n",
      "3294        Ziegfeld    PA    NaN   1929-1932      Ziegfeld          Florenz   \n",
      "3295         Ziegler     P    NaN   1993-1994       Ziegler           Renate   \n",
      "3296           Zieff     D    HoZ  @1975-1994         Zieff           Howard   \n",
      "3297            Ziem     P  (HZi)        1974          Ziem           Howard   \n",
      "3298       Zimbalist     P    NaN        1951     Zimbalist              Sam   \n",
      "3299       Zimmerman     D    VeZ        1980     Zimmerman           Vernon   \n",
      "3300         Zincone     D    BZi        1988       Zincone            Bruno   \n",
      "3301        Zinneman     D     FZ  @1947-1982      Zinneman             Fred   \n",
      "3302            Zito     D    JZi       @1984          Zito           Joseph   \n",
      "3303           Zonca     D    EZo       @1999         Zonca            Erick   \n",
      "3304        D.Zondag     D    DZo        1993   Dick Zondag             Dick   \n",
      "3305         Zlotoff     D    DLZ        1996       Zlotoff        Lee David   \n",
      "3306        Zsigmond     C    NaN   1972-1994      Zsigmond           Vilmos   \n",
      "3307        J.Zucker    WD    JZu        1990        Zucker            Jerry   \n",
      "3308        D.Zucker   WPD    DZu        1991        Zucker            David   \n",
      "3309          Zuckor    PD     AZ        1913        Zuckor           Adolph   \n",
      "3310        Zugsmith    PD    AlZ        1960      Zugsmith           Albert   \n",
      "3311        Zulawski     D    AZu  @1985-1990      Zulawski          Andrzaj   \n",
      "3312           Zwick     D    EZw  @1989-1994         Zwick           Edward   \n",
      "\n",
      "       dob  bkgd  \n",
      "0      [1]    Un  \n",
      "1      NaN    Un  \n",
      "2     1887    Un  \n",
      "3      [1]    Un  \n",
      "4      NaN    Un  \n",
      "5     1967    Un  \n",
      "6      NaN    Un  \n",
      "7      NaN    Un  \n",
      "8      NaN    Un  \n",
      "9     19xx    Un  \n",
      "10     NaN    Un  \n",
      "11    1921    Un  \n",
      "12     [1]    Un  \n",
      "13     [1]   NaN  \n",
      "14     NaN    Un  \n",
      "15     NaN    Un  \n",
      "16     [1]    Un  \n",
      "17    1888  1933  \n",
      "18    19xx    Un  \n",
      "19    19xx    Un  \n",
      "20    19xx    Un  \n",
      "21     [1]   NaN  \n",
      "22    19xx    Un  \n",
      "23     [1]    Un  \n",
      "24     NaN    Un  \n",
      "25    1936    Un  \n",
      "26    1918  1983  \n",
      "27    1927  1996  \n",
      "28     [1]    Un  \n",
      "29    19xx    Un  \n",
      "...    ...   ...  \n",
      "3283  1934    Un  \n",
      "3284   [1]    Un  \n",
      "3285   NaN   NaN  \n",
      "3286   NaN    Un  \n",
      "3287   [1]    Un  \n",
      "3288   NaN   NaN  \n",
      "3289  1950    Un  \n",
      "3290  19xx    Un  \n",
      "3291   NaN    Un  \n",
      "3292  19xx    Un  \n",
      "3293  19xx    Un  \n",
      "3294  1867  1932  \n",
      "3295  19xx    Un  \n",
      "3296   NaN   NaN  \n",
      "3297   NaN    Un  \n",
      "3298  19xx    Un  \n",
      "3299   NaN    Un  \n",
      "3300   NaN    Un  \n",
      "3301  1907  1997  \n",
      "3302   NaN    Un  \n",
      "3303  1955    Un  \n",
      "3304  19xx    Un  \n",
      "3305   NaN  199x  \n",
      "3306   NaN    Un  \n",
      "3307   NaN    Un  \n",
      "3308   NaN    Un  \n",
      "3309  1873  1976  \n",
      "3310  19xx    Un  \n",
      "3311   NaN    Un  \n",
      "3312   NaN    Un  \n",
      "\n",
      "[3313 rows x 8 columns]\n"
     ]
    }
   ],
   "source": [
    "#Ouverture en Dataframe\n",
    "URL = \"/home/moi/Documents/Projet_movies/people-Alex-Cyprien.csv\"\n",
    "df = pd.read_csv(URL, sep=',')\n",
    "print(df)"
   ]
  },
  {
   "cell_type": "code",
   "execution_count": 3,
   "metadata": {
    "scrolled": true
   },
   "outputs": [
    {
     "data": {
      "application/vnd.jupyter.widget-view+json": {
       "model_id": "2a4d2b7a127b45a7adac5bff186987dc",
       "version_major": 2,
       "version_minor": 0
      },
      "text/plain": [
       "QgridWidget(grid_options={'fullWidthRows': True, 'syncColumnCellResize': True, 'forceFitColumns': True, 'defau…"
      ]
     },
     "metadata": {},
     "output_type": "display_data"
    }
   ],
   "source": [
    "import qgrid\n",
    "edit_df = qgrid.show_grid(df, show_toolbar=True)\n",
    "edit_df"
   ]
  },
  {
   "cell_type": "code",
   "execution_count": null,
   "metadata": {},
   "outputs": [],
   "source": []
  },
  {
   "cell_type": "code",
   "execution_count": null,
   "metadata": {},
   "outputs": [],
   "source": []
  }
 ],
 "metadata": {
  "kernelspec": {
   "display_name": "Python 3",
   "language": "python",
   "name": "python3"
  },
  "language_info": {
   "codemirror_mode": {
    "name": "ipython",
    "version": 3
   },
   "file_extension": ".py",
   "mimetype": "text/x-python",
   "name": "python",
   "nbconvert_exporter": "python",
   "pygments_lexer": "ipython3",
   "version": "3.7.1"
  }
 },
 "nbformat": 4,
 "nbformat_minor": 2
}

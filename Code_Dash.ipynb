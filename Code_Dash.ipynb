{
 "cells": [
  {
   "cell_type": "code",
   "execution_count": 1,
   "metadata": {},
   "outputs": [],
   "source": [
    "import dash\n",
    "import dash_table\n",
    "from dash.dependencies import Input, Output\n",
    "import dash_core_components as dcc\n",
    "import dash_html_components as html\n",
    "import requests\n",
    "from pandas.io.json import json_normalize\n",
    "import pandas as pd\n",
    "from datetime import datetime as dt"
   ]
  },
  {
   "cell_type": "code",
   "execution_count": 2,
   "metadata": {},
   "outputs": [],
   "source": [
    "df = pd.read_csv('/home/moi/Documents/Projet_movies/File-actors-Alex.csv')\n",
    "\n",
    "app = dash.Dash(__name__)"
   ]
  },
  {
   "cell_type": "code",
   "execution_count": 3,
   "metadata": {},
   "outputs": [],
   "source": [
    "# CREATION DE LA DISPOSITION DE L'APPLICATION\n",
    "app.layout = html.Div([\n",
    "    \n",
    "    # Titre de l'application\n",
    "    html.H1(\n",
    "        children=\"Films\",\n",
    "        style={'textAlign': 'center'}\n",
    "    ),\n",
    "     \n",
    "    # Un slider permettant de selectionner la date voulue\n",
    "    html.Br(),\n",
    "    html.Hr(),\n",
    "    html.Label('Dates des films', style={'fontSize': 25, 'marginTop': 35}),\n",
    "    dcc.RangeSlider(\n",
    "        id='Périodes',\n",
    "        min=1950,\n",
    "        max=2000,\n",
    "        step=5,\n",
    "        marks={i: format(i) for i in range(1950, 2001)},\n",
    "        value=[1990, 2000],\n",
    "    ),\n",
    "    # Affichage de la table complete\n",
    "    html.Br(),\n",
    "    html.Hr(),\n",
    "    html.Label('Table de recherche', style={'fontSize': 20, 'marginTop': 40}),\n",
    "    dash_table.DataTable(\n",
    "        id='table',\n",
    "        columns=[{\"name\": i, \"id\": i} for i in df.columns],\n",
    "        data=df.to_dict('records'),\n",
    "        editable=True,\n",
    "        filtering=True,\n",
    "        sorting=True,\n",
    "        sorting_type=\"multi\",\n",
    "        row_selectable=\"multi\",\n",
    "        row_deletable=True,\n",
    "        pagination_mode=\"fe\",\n",
    "        pagination_settings={\n",
    "                \"current_page\": 0,\n",
    "                \"page_size\": 50,\n",
    "        },\n",
    "    )\n",
    "])\n",
    "  "
   ]
  },
  {
   "cell_type": "code",
   "execution_count": null,
   "metadata": {},
   "outputs": [
    {
     "name": "stdout",
     "output_type": "stream",
     "text": [
      " * Serving Flask app \"__main__\" (lazy loading)\n",
      " * Environment: production\n",
      "   WARNING: Do not use the development server in a production environment.\n",
      "   Use a production WSGI server instead.\n",
      " * Debug mode: off\n"
     ]
    },
    {
     "name": "stderr",
     "output_type": "stream",
     "text": [
      " * Running on http://127.0.0.1:8050/ (Press CTRL+C to quit)\n",
      "127.0.0.1 - - [18/Jun/2019 10:13:26] \"GET / HTTP/1.1\" 200 -\n",
      "127.0.0.1 - - [18/Jun/2019 10:13:26] \"GET /_dash-dependencies HTTP/1.1\" 200 -\n",
      "127.0.0.1 - - [18/Jun/2019 10:13:26] \"GET /_dash-layout HTTP/1.1\" 200 -\n",
      "127.0.0.1 - - [18/Jun/2019 10:13:42] \"GET / HTTP/1.1\" 200 -\n",
      "127.0.0.1 - - [18/Jun/2019 10:13:43] \"GET /_dash-dependencies HTTP/1.1\" 200 -\n",
      "127.0.0.1 - - [18/Jun/2019 10:13:43] \"GET /_dash-layout HTTP/1.1\" 200 -\n"
     ]
    }
   ],
   "source": [
    "# LANCEMENT DE L'APPLICATION\n",
    "if __name__ == '__main__':\n",
    "    app.run_server()"
   ]
  },
  {
   "cell_type": "code",
   "execution_count": null,
   "metadata": {},
   "outputs": [],
   "source": [
    "  "
   ]
  },
  {
   "cell_type": "code",
   "execution_count": null,
   "metadata": {},
   "outputs": [],
   "source": []
  }
 ],
 "metadata": {
  "kernelspec": {
   "display_name": "Python 3",
   "language": "python",
   "name": "python3"
  },
  "language_info": {
   "codemirror_mode": {
    "name": "ipython",
    "version": 3
   },
   "file_extension": ".py",
   "mimetype": "text/x-python",
   "name": "python",
   "nbconvert_exporter": "python",
   "pygments_lexer": "ipython3",
   "version": "3.7.1"
  }
 },
 "nbformat": 4,
 "nbformat_minor": 2
}
